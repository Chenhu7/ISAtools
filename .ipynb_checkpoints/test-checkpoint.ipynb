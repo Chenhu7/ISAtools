{
 "cells": [
  {
   "cell_type": "code",
   "execution_count": 1,
   "id": "74ad3e6a-5897-4a10-93ea-e78ded695e32",
   "metadata": {},
   "outputs": [],
   "source": [
    "import numpy as np\n",
    "import pandas as pd\n",
    "import re"
   ]
  },
  {
   "cell_type": "code",
   "execution_count": 2,
   "id": "f7267413-0b3c-4e23-bd18-515cc49fc376",
   "metadata": {},
   "outputs": [],
   "source": [
    "input_gtf = '/public/home/chenhu663/work/ISAtools_comparison/Bambu/mouse_pb_full/extended_annotations.gtf'\n",
    "output = '/public/home/chenhu663/work/ISAtools_comparison/Bambu/mouse_pb_full/extended_annotations.exonChain'\n",
    "\n",
    "gtf = pd.read_csv(input_gtf,sep='\\t',header = None)\n",
    "gtf = gtf.drop(columns = [1,5,7])\n",
    "gtf.columns = ['Chr','type','TrStart','TrEnd','Strand','description']\n",
    "\n",
    "def extract_ids(description):\n",
    "    gene_id_match = re.search(r'gene_id \"([^\"]+)\"', description)\n",
    "    transcript_id_match = re.search(r'transcript_id \"([^\"]+)\"', description)\n",
    "    return gene_id_match.group(1) if gene_id_match else None, transcript_id_match.group(1) if transcript_id_match else None\n",
    "\n",
    "def aggregate_sites(group):\n",
    "    sites = sorted(group['TrStart'].tolist() + group['TrEnd'].tolist())\n",
    "    return pd.Series({\"sites\": sites})\n",
    "\n",
    "gtf[['gene_id', 'transcript_id']] = gtf['description'].apply(lambda x: pd.Series(extract_ids(x)))\n",
    "gtf = gtf[gtf['type'] == 'exon']\n",
    "grouped_gtf = (\n",
    "    gtf.groupby([\"Chr\", \"Strand\", \"gene_id\", \"transcript_id\"])\n",
    "      .apply(aggregate_sites)\n",
    "      .reset_index()\n",
    ")\n",
    "grouped_gtf['TrStart'] = grouped_gtf['sites'].apply(lambda x : x[0])\n",
    "grouped_gtf['TrEnd'] = grouped_gtf['sites'].apply(lambda x : x[-1])\n",
    "grouped_gtf['exonChain'] = grouped_gtf['sites'].apply(lambda x : '-'.join(list(map(str,x[1:-1]))))\n",
    "grouped_gtf = grouped_gtf.drop(columns = 'sites')\n",
    "\n",
    "grouped_gtf.to_csv(output,index=False)"
   ]
  },
  {
   "cell_type": "code",
   "execution_count": 6,
   "id": "d39fd7f0-0880-4e4c-a2cc-57b722905741",
   "metadata": {},
   "outputs": [],
   "source": [
    "grouped_gtf.to_csv(output,index=False)"
   ]
  }
 ],
 "metadata": {
  "kernelspec": {
   "display_name": "Python 3 (ipykernel)",
   "language": "python",
   "name": "python3"
  },
  "language_info": {
   "codemirror_mode": {
    "name": "ipython",
    "version": 3
   },
   "file_extension": ".py",
   "mimetype": "text/x-python",
   "name": "python",
   "nbconvert_exporter": "python",
   "pygments_lexer": "ipython3",
   "version": "3.8.10"
  }
 },
 "nbformat": 4,
 "nbformat_minor": 5
}
