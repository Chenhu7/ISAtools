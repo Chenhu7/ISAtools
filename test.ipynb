{
 "cells": [
  {
   "cell_type": "code",
   "execution_count": 3,
   "id": "74ad3e6a-5897-4a10-93ea-e78ded695e32",
   "metadata": {},
   "outputs": [],
   "source": [
    "import numpy as np\n",
    "import pandas as pd\n",
    "import os\n",
    "import csv\n",
    "import matplotlib.pyplot as plt\n",
    "import math\n",
    "import re\n",
    "import multiprocessing as mp\n",
    "\n",
    "from sklearn.metrics import confusion_matrix\n",
    "from sklearn.metrics import accuracy_score,precision_score\n",
    "from sklearn.metrics import classification_report,recall_score,f1_score\n",
    "from functools import partial\n",
    "import time\n",
    "# from function import *\n",
    "# from function_optimize import *\n",
    "from joblib import Parallel, delayed\n",
    "from sklearn.cluster import DBSCAN\n",
    "from sklearn.ensemble import IsolationForest\n",
    "from matplotlib.ticker import ScalarFormatter\n",
    "\n",
    "import gc\n",
    "import networkx as nx"
   ]
  },
  {
   "cell_type": "code",
   "execution_count": 39,
   "id": "33092fbd-d0da-4f6a-91dd-151f8fcf1c29",
   "metadata": {},
   "outputs": [],
   "source": [
    "Ref = pd.read_csv('/public/home/chenhu663/work/ISA-tools_debug/data/SIRV/Ref_SIRV_fullref.exonChain',sep='\\t')\n",
    "Ref['key'] = Ref['Chr'] + Ref['Strand'] + Ref['exonChain']"
   ]
  },
  {
   "cell_type": "code",
   "execution_count": 42,
   "id": "07f2d75b-b29e-4832-8363-e9ff9109b8dc",
   "metadata": {},
   "outputs": [
    {
     "data": {
      "text/plain": [
       "l\n",
       "1    70\n",
       "0    60\n",
       "dtype: int64"
      ]
     },
     "execution_count": 42,
     "metadata": {},
     "output_type": "execute_result"
    }
   ],
   "source": [
    "df_PB_sirv = pd.read_parquet('SIRV_PB.parquet')\n",
    "df_PB_sirv['key'] = df_PB_sirv['Chr'] + df_PB_sirv['Strand'] + df_PB_sirv['exonChain']\n",
    "df_PB_sirv['l'] = df_PB_sirv['key'].isin(Ref['key']).astype(int)\n",
    "df_PB_sirv.value_counts('l')"
   ]
  }
 ],
 "metadata": {
  "kernelspec": {
   "display_name": "Python 3 (ipykernel)",
   "language": "python",
   "name": "python3"
  },
  "language_info": {
   "codemirror_mode": {
    "name": "ipython",
    "version": 3
   },
   "file_extension": ".py",
   "mimetype": "text/x-python",
   "name": "python",
   "nbconvert_exporter": "python",
   "pygments_lexer": "ipython3",
   "version": "3.8.10"
  }
 },
 "nbformat": 4,
 "nbformat_minor": 5
}
