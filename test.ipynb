{
 "cells": [
  {
   "cell_type": "code",
   "execution_count": 4,
   "id": "74ad3e6a-5897-4a10-93ea-e78ded695e32",
   "metadata": {},
   "outputs": [],
   "source": [
    "import numpy as np\n",
    "import pandas as pd\n",
    "import os\n",
    "import csv\n",
    "import matplotlib.pyplot as plt\n",
    "import math\n",
    "import re\n",
    "import multiprocessing as mp\n",
    "\n",
    "from sklearn.metrics import confusion_matrix\n",
    "from sklearn.metrics import accuracy_score,precision_score\n",
    "from sklearn.metrics import classification_report,recall_score,f1_score\n",
    "from functools import partial\n",
    "import time\n",
    "# from function import *\n",
    "# from function_optimize import *\n",
    "from joblib import Parallel, delayed\n",
    "from sklearn.cluster import DBSCAN\n",
    "from sklearn.ensemble import IsolationForest\n",
    "from matplotlib.ticker import ScalarFormatter\n",
    "\n",
    "import gc\n",
    "import networkx as nx"
   ]
  },
  {
   "cell_type": "code",
   "execution_count": 5,
   "id": "33092fbd-d0da-4f6a-91dd-151f8fcf1c29",
   "metadata": {},
   "outputs": [],
   "source": [
    "Ref = pd.read_csv('/public/home/chenhu663/work/ISA-tools_debug/data/SIRV/Ref_SIRV_fullref.exonChain',sep='\\t')\n",
    "Ref['key'] = Ref['Chr'] + Ref['Strand'] + Ref['exonChain']"
   ]
  },
  {
   "cell_type": "code",
   "execution_count": 44,
   "id": "5a68edac-79f4-4c34-acda-ed3915ee8488",
   "metadata": {},
   "outputs": [
    {
     "data": {
      "text/html": [
       "<div>\n",
       "<style scoped>\n",
       "    .dataframe tbody tr th:only-of-type {\n",
       "        vertical-align: middle;\n",
       "    }\n",
       "\n",
       "    .dataframe tbody tr th {\n",
       "        vertical-align: top;\n",
       "    }\n",
       "\n",
       "    .dataframe thead th {\n",
       "        text-align: right;\n",
       "    }\n",
       "</style>\n",
       "<table border=\"1\" class=\"dataframe\">\n",
       "  <thead>\n",
       "    <tr style=\"text-align: right;\">\n",
       "      <th></th>\n",
       "      <th>Chr</th>\n",
       "      <th>Strand</th>\n",
       "      <th>exonChain</th>\n",
       "      <th>TrStart</th>\n",
       "      <th>TrEnd</th>\n",
       "      <th>pred_terminal_sites</th>\n",
       "    </tr>\n",
       "  </thead>\n",
       "  <tbody>\n",
       "    <tr>\n",
       "      <th>0</th>\n",
       "      <td>SIRV1</td>\n",
       "      <td>+</td>\n",
       "      <td>10791-10883-11057-11435</td>\n",
       "      <td>[10481, 10482, 10483, 10484, 10485, 10485, 104...</td>\n",
       "      <td>[11643, 11643, 11644, 11642, 11643, 11643, 116...</td>\n",
       "      <td>[10710, 11643]</td>\n",
       "    </tr>\n",
       "    <tr>\n",
       "      <th>1</th>\n",
       "      <td>SIRV1</td>\n",
       "      <td>+</td>\n",
       "      <td>10791-10898-11187-11404</td>\n",
       "      <td>[10480, 10481, 10481, 10482, 10482, 10482, 104...</td>\n",
       "      <td>[11606, 11606, 11606, 11604, 11607, 11606, 116...</td>\n",
       "      <td>[10582, 11606]</td>\n",
       "    </tr>\n",
       "    <tr>\n",
       "      <th>2</th>\n",
       "      <td>SIRV1</td>\n",
       "      <td>-</td>\n",
       "      <td>10791-10883-11242-11404</td>\n",
       "      <td>[10646, 10646, 10647, 10647, 10647, 10647, 106...</td>\n",
       "      <td>[11534, 11643, 11643, 11643, 11643, 11643, 116...</td>\n",
       "      <td>[10650, 11643]</td>\n",
       "    </tr>\n",
       "    <tr>\n",
       "      <th>3</th>\n",
       "      <td>SIRV1</td>\n",
       "      <td>-</td>\n",
       "      <td>1484-6338</td>\n",
       "      <td>[6369, 6371, 6459, 6365, 6396, 6396, 6369, 645...</td>\n",
       "      <td>[1000, 1000, 1000, 1000, 1000, 1000, 1000, 100...</td>\n",
       "      <td>[6369, 1009]</td>\n",
       "    </tr>\n",
       "    <tr>\n",
       "      <th>4</th>\n",
       "      <td>SIRV1</td>\n",
       "      <td>-</td>\n",
       "      <td>1484-6338-6473-6561</td>\n",
       "      <td>[6734, 6749, 6747, 6750, 6623, 6751, 6749, 675...</td>\n",
       "      <td>[1000, 1000, 1000, 1000, 1000, 1000, 1000, 100...</td>\n",
       "      <td>[6750, 1001]</td>\n",
       "    </tr>\n",
       "  </tbody>\n",
       "</table>\n",
       "</div>"
      ],
      "text/plain": [
       "     Chr Strand                exonChain  \\\n",
       "0  SIRV1      +  10791-10883-11057-11435   \n",
       "1  SIRV1      +  10791-10898-11187-11404   \n",
       "2  SIRV1      -  10791-10883-11242-11404   \n",
       "3  SIRV1      -                1484-6338   \n",
       "4  SIRV1      -      1484-6338-6473-6561   \n",
       "\n",
       "                                             TrStart  \\\n",
       "0  [10481, 10482, 10483, 10484, 10485, 10485, 104...   \n",
       "1  [10480, 10481, 10481, 10482, 10482, 10482, 104...   \n",
       "2  [10646, 10646, 10647, 10647, 10647, 10647, 106...   \n",
       "3  [6369, 6371, 6459, 6365, 6396, 6396, 6369, 645...   \n",
       "4  [6734, 6749, 6747, 6750, 6623, 6751, 6749, 675...   \n",
       "\n",
       "                                               TrEnd pred_terminal_sites  \n",
       "0  [11643, 11643, 11644, 11642, 11643, 11643, 116...      [10710, 11643]  \n",
       "1  [11606, 11606, 11606, 11604, 11607, 11606, 116...      [10582, 11606]  \n",
       "2  [11534, 11643, 11643, 11643, 11643, 11643, 116...      [10650, 11643]  \n",
       "3  [1000, 1000, 1000, 1000, 1000, 1000, 1000, 100...        [6369, 1009]  \n",
       "4  [1000, 1000, 1000, 1000, 1000, 1000, 1000, 100...        [6750, 1001]  "
      ]
     },
     "execution_count": 44,
     "metadata": {},
     "output_type": "execute_result"
    }
   ],
   "source": [
    "df_PB_sirv = pd.read_parquet('SIRV_PB.parquet')\n",
    "df_PB_sirv[:5]"
   ]
  },
  {
   "cell_type": "code",
   "execution_count": 37,
   "id": "e4d7e95f-6d97-4f47-8a57-a9ce497cf6f2",
   "metadata": {},
   "outputs": [],
   "source": [
    "df_FSM = df_PB_sirv[df_PB_sirv['category'] != 'NNC'].copy()"
   ]
  },
  {
   "cell_type": "code",
   "execution_count": 38,
   "id": "f5de654b-ea59-4660-a17b-8ead9a981330",
   "metadata": {},
   "outputs": [
    {
     "data": {
      "text/plain": [
       "Index(['Chr', 'Strand', 'exonChain', 'TrStart', 'TrEnd', 'category'], dtype='object')"
      ]
     },
     "execution_count": 38,
     "metadata": {},
     "output_type": "execute_result"
    }
   ],
   "source": [
    "df_PB_sirv.columns"
   ]
  },
  {
   "cell_type": "code",
   "execution_count": 45,
   "id": "07f2d75b-b29e-4832-8363-e9ff9109b8dc",
   "metadata": {},
   "outputs": [
    {
     "data": {
      "text/plain": [
       "l\n",
       "1    59\n",
       "0    11\n",
       "dtype: int64"
      ]
     },
     "execution_count": 45,
     "metadata": {},
     "output_type": "execute_result"
    }
   ],
   "source": [
    "df_PB_sirv = df_PB_sirv[['Chr','Strand','exonChain']].drop_duplicates().copy()\n",
    "df_PB_sirv['key'] = df_PB_sirv['Chr'] + df_PB_sirv['Strand'] + df_PB_sirv['exonChain']\n",
    "df_PB_sirv['l'] = df_PB_sirv['key'].isin(Ref['key']).astype(int)\n",
    "df_PB_sirv.value_counts('l')"
   ]
  },
  {
   "cell_type": "code",
   "execution_count": 51,
   "id": "9234a6a8-dcb4-4eb0-a9cd-f90e07c14947",
   "metadata": {},
   "outputs": [],
   "source": [
    "Ref = pd.read_csv('/public/home/chenhu663/work/ISA-tools_debug/data/Mouse/Ref_Mouse_fullref.exonChain',sep='\\t')\n",
    "Ref['key'] = Ref['Chr'] + Ref['Strand'] + Ref['exonChain']"
   ]
  },
  {
   "cell_type": "code",
   "execution_count": 46,
   "id": "97275470-5829-4448-801c-3a314bf36828",
   "metadata": {},
   "outputs": [
    {
     "name": "stderr",
     "output_type": "stream",
     "text": [
      "/tmp/ipykernel_100825/283259595.py:1: DtypeWarning: Columns (5) have mixed types. Specify dtype option on import or set low_memory=False.\n",
      "  df_read = pd.read_csv('isatools_output/process/flnc.exonChain', sep=\"\\t\", header=None)\n"
     ]
    }
   ],
   "source": [
    "df_read = pd.read_csv('isatools_output/process/flnc.exonChain', sep=\"\\t\", header=None)"
   ]
  },
  {
   "cell_type": "code",
   "execution_count": null,
   "id": "7dd0937d-1983-422f-801b-b2fb8e891908",
   "metadata": {},
   "outputs": [],
   "source": []
  },
  {
   "cell_type": "code",
   "execution_count": 52,
   "id": "1951a0e6-21d0-4e1d-b4c5-c6dd91b04dcf",
   "metadata": {},
   "outputs": [
    {
     "data": {
      "text/html": [
       "<div>\n",
       "<style scoped>\n",
       "    .dataframe tbody tr th:only-of-type {\n",
       "        vertical-align: middle;\n",
       "    }\n",
       "\n",
       "    .dataframe tbody tr th {\n",
       "        vertical-align: top;\n",
       "    }\n",
       "\n",
       "    .dataframe thead th {\n",
       "        text-align: right;\n",
       "    }\n",
       "</style>\n",
       "<table border=\"1\" class=\"dataframe\">\n",
       "  <thead>\n",
       "    <tr style=\"text-align: right;\">\n",
       "      <th></th>\n",
       "      <th>Chr</th>\n",
       "      <th>Strand</th>\n",
       "      <th>exonChain</th>\n",
       "      <th>TrStart</th>\n",
       "      <th>TrEnd</th>\n",
       "      <th>pred_terminal_sites</th>\n",
       "    </tr>\n",
       "  </thead>\n",
       "  <tbody>\n",
       "    <tr>\n",
       "      <th>0</th>\n",
       "      <td>GL456219.1</td>\n",
       "      <td>+</td>\n",
       "      <td>7473-9782</td>\n",
       "      <td>[6995, 6995, 6995, 6995, 6995, 7004, 7012, 703...</td>\n",
       "      <td>[11304, 11304, 11302, 11304, 11304, 11304, 113...</td>\n",
       "      <td>[6995, 11304]</td>\n",
       "    </tr>\n",
       "    <tr>\n",
       "      <th>1</th>\n",
       "      <td>chr1</td>\n",
       "      <td>+</td>\n",
       "      <td>10108569-10115301-10115409-10117649-10117751-1...</td>\n",
       "      <td>[10108517]</td>\n",
       "      <td>[10137343]</td>\n",
       "      <td>[10108487, 10137343]</td>\n",
       "    </tr>\n",
       "    <tr>\n",
       "      <th>2</th>\n",
       "      <td>chr1</td>\n",
       "      <td>+</td>\n",
       "      <td>10108569-10115301-10115409-10117649-10117751-1...</td>\n",
       "      <td>[10108442, 10108442, 10108442, 10108442, 10108...</td>\n",
       "      <td>[10206993, 10206934, 10206993, 10206993, 10206...</td>\n",
       "      <td>[10108442, 10206993]</td>\n",
       "    </tr>\n",
       "    <tr>\n",
       "      <th>3</th>\n",
       "      <td>chr1</td>\n",
       "      <td>+</td>\n",
       "      <td>10110104-10115301-10115409-10117649-10117751-1...</td>\n",
       "      <td>[10109998, 10109998, 10110003, 10110014, 10110...</td>\n",
       "      <td>[10138558, 10138558, 10138558, 10138558, 10138...</td>\n",
       "      <td>[10109998, 10138558]</td>\n",
       "    </tr>\n",
       "    <tr>\n",
       "      <th>4</th>\n",
       "      <td>chr1</td>\n",
       "      <td>+</td>\n",
       "      <td>10110112-10115301-10115409-10117649-10117751-1...</td>\n",
       "      <td>[10109998, 10109998, 10109998, 10110015, 10110...</td>\n",
       "      <td>[10138202, 10138199, 10138202, 10138202, 10138...</td>\n",
       "      <td>[10109998, 10138202]</td>\n",
       "    </tr>\n",
       "  </tbody>\n",
       "</table>\n",
       "</div>"
      ],
      "text/plain": [
       "          Chr Strand                                          exonChain  \\\n",
       "0  GL456219.1      +                                          7473-9782   \n",
       "1        chr1      +  10108569-10115301-10115409-10117649-10117751-1...   \n",
       "2        chr1      +  10108569-10115301-10115409-10117649-10117751-1...   \n",
       "3        chr1      +  10110104-10115301-10115409-10117649-10117751-1...   \n",
       "4        chr1      +  10110112-10115301-10115409-10117649-10117751-1...   \n",
       "\n",
       "                                             TrStart  \\\n",
       "0  [6995, 6995, 6995, 6995, 6995, 7004, 7012, 703...   \n",
       "1                                         [10108517]   \n",
       "2  [10108442, 10108442, 10108442, 10108442, 10108...   \n",
       "3  [10109998, 10109998, 10110003, 10110014, 10110...   \n",
       "4  [10109998, 10109998, 10109998, 10110015, 10110...   \n",
       "\n",
       "                                               TrEnd   pred_terminal_sites  \n",
       "0  [11304, 11304, 11302, 11304, 11304, 11304, 113...         [6995, 11304]  \n",
       "1                                         [10137343]  [10108487, 10137343]  \n",
       "2  [10206993, 10206934, 10206993, 10206993, 10206...  [10108442, 10206993]  \n",
       "3  [10138558, 10138558, 10138558, 10138558, 10138...  [10109998, 10138558]  \n",
       "4  [10138202, 10138199, 10138202, 10138202, 10138...  [10109998, 10138202]  "
      ]
     },
     "execution_count": 52,
     "metadata": {},
     "output_type": "execute_result"
    }
   ],
   "source": [
    "df_PB_sirv = pd.read_parquet('isatools_output/isatools_SIRV_PB.parquet')\n",
    "df_PB_sirv[:5]"
   ]
  },
  {
   "cell_type": "code",
   "execution_count": 53,
   "id": "51f41b8b-84b2-4c6a-95b1-8a88f13763e6",
   "metadata": {},
   "outputs": [
    {
     "data": {
      "text/plain": [
       "l\n",
       "1    28333\n",
       "0      589\n",
       "dtype: int64"
      ]
     },
     "execution_count": 53,
     "metadata": {},
     "output_type": "execute_result"
    }
   ],
   "source": [
    "df_PB_sirv = df_PB_sirv[['Chr','Strand','exonChain']].drop_duplicates().copy()\n",
    "df_PB_sirv['key'] = df_PB_sirv['Chr'] + df_PB_sirv['Strand'] + df_PB_sirv['exonChain']\n",
    "df_PB_sirv['l'] = df_PB_sirv['key'].isin(Ref['key']).astype(int)\n",
    "df_PB_sirv.value_counts('l')"
   ]
  }
 ],
 "metadata": {
  "kernelspec": {
   "display_name": "Python 3 (ipykernel)",
   "language": "python",
   "name": "python3"
  },
  "language_info": {
   "codemirror_mode": {
    "name": "ipython",
    "version": 3
   },
   "file_extension": ".py",
   "mimetype": "text/x-python",
   "name": "python",
   "nbconvert_exporter": "python",
   "pygments_lexer": "ipython3",
   "version": "3.8.10"
  }
 },
 "nbformat": 4,
 "nbformat_minor": 5
}
